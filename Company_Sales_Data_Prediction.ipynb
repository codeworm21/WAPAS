{
 "cells": [
  {
   "cell_type": "code",
   "execution_count": 1,
   "id": "47516c00",
   "metadata": {},
   "outputs": [],
   "source": [
    "import numpy as np\n",
    "import pandas as pd\n",
    "import matplotlib.pyplot as plt\n",
    "%matplotlib inline\n",
    "from sklearn.model_selection import train_test_split"
   ]
  },
  {
   "cell_type": "code",
   "execution_count": 2,
   "id": "942ecba0",
   "metadata": {},
   "outputs": [
    {
     "data": {
      "text/html": [
       "<div>\n",
       "<style scoped>\n",
       "    .dataframe tbody tr th:only-of-type {\n",
       "        vertical-align: middle;\n",
       "    }\n",
       "\n",
       "    .dataframe tbody tr th {\n",
       "        vertical-align: top;\n",
       "    }\n",
       "\n",
       "    .dataframe thead th {\n",
       "        text-align: right;\n",
       "    }\n",
       "</style>\n",
       "<table border=\"1\" class=\"dataframe\">\n",
       "  <thead>\n",
       "    <tr style=\"text-align: right;\">\n",
       "      <th></th>\n",
       "      <th>Total Revenue</th>\n",
       "      <th>Total Cost</th>\n",
       "    </tr>\n",
       "  </thead>\n",
       "  <tbody>\n",
       "    <tr>\n",
       "      <th>0</th>\n",
       "      <td>2408445.08</td>\n",
       "      <td>1811154.16</td>\n",
       "    </tr>\n",
       "    <tr>\n",
       "      <th>1</th>\n",
       "      <td>2153286.80</td>\n",
       "      <td>1344707.70</td>\n",
       "    </tr>\n",
       "    <tr>\n",
       "      <th>2</th>\n",
       "      <td>2045322.72</td>\n",
       "      <td>1768017.12</td>\n",
       "    </tr>\n",
       "    <tr>\n",
       "      <th>3</th>\n",
       "      <td>3048155.25</td>\n",
       "      <td>2634885.25</td>\n",
       "    </tr>\n",
       "    <tr>\n",
       "      <th>4</th>\n",
       "      <td>406257.50</td>\n",
       "      <td>231292.25</td>\n",
       "    </tr>\n",
       "    <tr>\n",
       "      <th>...</th>\n",
       "      <td>...</td>\n",
       "      <td>...</td>\n",
       "    </tr>\n",
       "    <tr>\n",
       "      <th>49995</th>\n",
       "      <td>1396381.60</td>\n",
       "      <td>872027.40</td>\n",
       "    </tr>\n",
       "    <tr>\n",
       "      <th>49996</th>\n",
       "      <td>3778971.63</td>\n",
       "      <td>3046342.88</td>\n",
       "    </tr>\n",
       "    <tr>\n",
       "      <th>49997</th>\n",
       "      <td>137142.94</td>\n",
       "      <td>95092.26</td>\n",
       "    </tr>\n",
       "    <tr>\n",
       "      <th>49998</th>\n",
       "      <td>526729.60</td>\n",
       "      <td>172748.80</td>\n",
       "    </tr>\n",
       "    <tr>\n",
       "      <th>49999</th>\n",
       "      <td>613620.98</td>\n",
       "      <td>362174.19</td>\n",
       "    </tr>\n",
       "  </tbody>\n",
       "</table>\n",
       "<p>50000 rows × 2 columns</p>\n",
       "</div>"
      ],
      "text/plain": [
       "       Total Revenue  Total Cost\n",
       "0         2408445.08  1811154.16\n",
       "1         2153286.80  1344707.70\n",
       "2         2045322.72  1768017.12\n",
       "3         3048155.25  2634885.25\n",
       "4          406257.50   231292.25\n",
       "...              ...         ...\n",
       "49995     1396381.60   872027.40\n",
       "49996     3778971.63  3046342.88\n",
       "49997      137142.94    95092.26\n",
       "49998      526729.60   172748.80\n",
       "49999      613620.98   362174.19\n",
       "\n",
       "[50000 rows x 2 columns]"
      ]
     },
     "execution_count": 2,
     "metadata": {},
     "output_type": "execute_result"
    }
   ],
   "source": [
    "dataSet = pd.read_csv('dataset.csv')\n",
    "dataSet"
   ]
  },
  {
   "cell_type": "code",
   "execution_count": 3,
   "id": "eb24c432",
   "metadata": {},
   "outputs": [
    {
     "data": {
      "image/png": "[encoded data removed]",
      "text/plain": [
       "<Figure size 432x288 with 1 Axes>"
      ]
     },
     "metadata": {
      "needs_background": "light"
     },
     "output_type": "display_data"
    }
   ],
   "source": [
    "dataSet.plot(x='Total Cost',y='Total Revenue',style='.')\n",
    "plt.show()"
   ]
  },
  {
   "cell_type": "code",
   "execution_count": 4,
   "id": "89002c3c",
   "metadata": {},
   "outputs": [
    {
     "data": {
      "text/plain": [
       "array([1811154.16, 1344707.7 , 1768017.12, ...,   95092.26,  172748.8 ,\n",
       "        362174.19])"
      ]
     },
     "execution_count": 4,
     "metadata": {},
     "output_type": "execute_result"
    }
   ],
   "source": [
    "x = dataSet.iloc[:,1].values\n",
    "y = dataSet.iloc[:,:-1].values\n",
    "x"
   ]
  },
  {
   "cell_type": "code",
   "execution_count": 5,
   "id": "594dc5bb",
   "metadata": {},
   "outputs": [
    {
     "name": "stdout",
     "output_type": "stream",
     "text": [
      "Training data\n",
      " [[1149228.36]\n",
      " [  15105.27]\n",
      " [4023564.93]\n",
      " ...\n",
      " [3081906.45]\n",
      " [ 603298.96]\n",
      " [ 570004.48]]\n",
      "Training data [ 993415.56   11203.48 3478048.53 ... 2664060.45  356081.88  186941.44]\n",
      "Testing data\n",
      " [[1027677.2 ]\n",
      " [ 254759.05]\n",
      " [ 684748.48]\n",
      " ...\n",
      " [  65459.28]\n",
      " [1433652.48]\n",
      " [2322792.72]]\n",
      "Testing data [ 585081.56  170680.51  224573.44 ...   48550.72  895302.72 1450562.58]\n"
     ]
    }
   ],
   "source": [
    "x_train,x_test,y_train,y_test = train_test_split(y,x, test_size=0.2)\n",
    "print('Training data\\n',x_train)\n",
    "print('Training data',y_train)\n",
    "print('Testing data\\n',x_test)\n",
    "print('Testing data',y_test)"
   ]
  },
  {
   "cell_type": "code",
   "execution_count": 6,
   "id": "c349ee84",
   "metadata": {},
   "outputs": [
    {
     "name": "stdout",
     "output_type": "stream",
     "text": [
      "-90254.71048428142\n",
      "[0.77360328]\n"
     ]
    }
   ],
   "source": [
    "from sklearn.linear_model import LinearRegression\n",
    "regressor = LinearRegression()\n",
    "regressor.fit(x_train,y_train)\n",
    "print(regressor.intercept_)\n",
    "print(regressor.coef_)"
   ]
  },
  {
   "cell_type": "code",
   "execution_count": 7,
   "id": "0634ab4f",
   "metadata": {},
   "outputs": [
    {
     "name": "stdout",
     "output_type": "stream",
     "text": [
      "[ 704759.74185006  106827.72611446  439468.95937428 ...  -39615.19679321\n",
      " 1018823.54991205 1706665.35563862]\n"
     ]
    }
   ],
   "source": [
    "y_pred = regressor.predict(x_test)\n",
    "print(y_pred)"
   ]
  },
  {
   "cell_type": "code",
   "execution_count": 8,
   "id": "83d97989",
   "metadata": {},
   "outputs": [
    {
     "data": {
      "text/html": [
       "<div>\n",
       "<style scoped>\n",
       "    .dataframe tbody tr th:only-of-type {\n",
       "        vertical-align: middle;\n",
       "    }\n",
       "\n",
       "    .dataframe tbody tr th {\n",
       "        vertical-align: top;\n",
       "    }\n",
       "\n",
       "    .dataframe thead th {\n",
       "        text-align: right;\n",
       "    }\n",
       "</style>\n",
       "<table border=\"1\" class=\"dataframe\">\n",
       "  <thead>\n",
       "    <tr style=\"text-align: right;\">\n",
       "      <th></th>\n",
       "      <th>Actual</th>\n",
       "      <th>Predicted</th>\n",
       "    </tr>\n",
       "  </thead>\n",
       "  <tbody>\n",
       "    <tr>\n",
       "      <th>0</th>\n",
       "      <td>585081.56</td>\n",
       "      <td>7.047597e+05</td>\n",
       "    </tr>\n",
       "    <tr>\n",
       "      <th>1</th>\n",
       "      <td>170680.51</td>\n",
       "      <td>1.068277e+05</td>\n",
       "    </tr>\n",
       "    <tr>\n",
       "      <th>2</th>\n",
       "      <td>224573.44</td>\n",
       "      <td>4.394690e+05</td>\n",
       "    </tr>\n",
       "    <tr>\n",
       "      <th>3</th>\n",
       "      <td>701888.67</td>\n",
       "      <td>8.297059e+05</td>\n",
       "    </tr>\n",
       "    <tr>\n",
       "      <th>4</th>\n",
       "      <td>202131.86</td>\n",
       "      <td>1.844040e+05</td>\n",
       "    </tr>\n",
       "    <tr>\n",
       "      <th>...</th>\n",
       "      <td>...</td>\n",
       "      <td>...</td>\n",
       "    </tr>\n",
       "    <tr>\n",
       "      <th>9995</th>\n",
       "      <td>52716.56</td>\n",
       "      <td>-3.527013e+04</td>\n",
       "    </tr>\n",
       "    <tr>\n",
       "      <th>9996</th>\n",
       "      <td>97372.77</td>\n",
       "      <td>2.218029e+04</td>\n",
       "    </tr>\n",
       "    <tr>\n",
       "      <th>9997</th>\n",
       "      <td>48550.72</td>\n",
       "      <td>-3.961520e+04</td>\n",
       "    </tr>\n",
       "    <tr>\n",
       "      <th>9998</th>\n",
       "      <td>895302.72</td>\n",
       "      <td>1.018824e+06</td>\n",
       "    </tr>\n",
       "    <tr>\n",
       "      <th>9999</th>\n",
       "      <td>1450562.58</td>\n",
       "      <td>1.706665e+06</td>\n",
       "    </tr>\n",
       "  </tbody>\n",
       "</table>\n",
       "<p>10000 rows × 2 columns</p>\n",
       "</div>"
      ],
      "text/plain": [
       "          Actual     Predicted\n",
       "0      585081.56  7.047597e+05\n",
       "1      170680.51  1.068277e+05\n",
       "2      224573.44  4.394690e+05\n",
       "3      701888.67  8.297059e+05\n",
       "4      202131.86  1.844040e+05\n",
       "...          ...           ...\n",
       "9995    52716.56 -3.527013e+04\n",
       "9996    97372.77  2.218029e+04\n",
       "9997    48550.72 -3.961520e+04\n",
       "9998   895302.72  1.018824e+06\n",
       "9999  1450562.58  1.706665e+06\n",
       "\n",
       "[10000 rows x 2 columns]"
      ]
     },
     "execution_count": 8,
     "metadata": {},
     "output_type": "execute_result"
    }
   ],
   "source": [
    "df = pd.DataFrame({'Actual':y_test, 'Predicted':y_pred})\n",
    "df"
   ]
  },
  {
   "cell_type": "code",
   "execution_count": 9,
   "id": "947a55cb",
   "metadata": {},
   "outputs": [
    {
     "name": "stdout",
     "output_type": "stream",
     "text": [
      "MSE :  32601746837.29194\n",
      "RMSE :  180559.53820635437\n",
      "r2_stat : 0.97\n"
     ]
    }
   ],
   "source": [
    "from sklearn import metrics\n",
    "from sklearn.metrics import mean_squared_error,r2_score\n",
    "print('MSE : ',mean_squared_error(y_test,y_pred))\n",
    "print('RMSE : ',np.sqrt(mean_squared_error(y_test,y_pred)))\n",
    "print('r2_stat : %.2f'%r2_score(y_test,y_pred))"
   ]
  },
  {
   "cell_type": "code",
   "execution_count": null,
   "id": "9fe9f1c6",
   "metadata": {},
   "outputs": [],
   "source": []
  }
 ],
 "metadata": {
  "kernelspec": {
   "display_name": "Python 3 (ipykernel)",
   "language": "python",
   "name": "python3"
  },
  "language_info": {
   "codemirror_mode": {
    "name": "ipython",
    "version": 3
   },
   "file_extension": ".py",
   "mimetype": "text/x-python",
   "name": "python",
   "nbconvert_exporter": "python",
   "pygments_lexer": "ipython3",
   "version": "3.9.7"
  }
 },
 "nbformat": 4,
 "nbformat_minor": 5
}
